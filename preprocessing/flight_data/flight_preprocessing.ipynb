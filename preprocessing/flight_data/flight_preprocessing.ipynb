﻿{
  "metadata": {
    "name": "data-profiling",
    "kernelspec": {
      "language": "scala",
      "name": "spark2-scala"
    },
    "language_info": {
      "codemirror_mode": "text/x-scala",
      "file_extension": ".scala",
      "mimetype": "text/x-scala",
      "name": "scala",
      "pygments_lexer": "scala"
    }
  },
  "nbformat": 4,
  "nbformat_minor": 2,
  "cells": [
    {
      "cell_type": "code",
      "execution_count": 0,
      "metadata": {
        "autoscroll": "auto"
      },
      "outputs": [],
      "source": "import org.apache.spark.sql.types._\n\nval schema \u003d StructType(Array(\n  StructField(\"departure_datetime\", TimestampType, true),\n  StructField(\"arrival_datetime\", TimestampType, true),\n  StructField(\"airlines\", StringType, true),\n  StructField(\"travel_time\", IntegerType, true),\n  StructField(\"origin\", StringType, true),\n  StructField(\"destination\", StringType, true),\n  StructField(\"layover_n\", IntegerType, true),\n  StructField(\"layover_time\", IntegerType, true),\n  StructField(\"layover_location\", StringType, true),\n  StructField(\"price_eur\", IntegerType, true),\n  StructField(\"price_trend\", StringType, true),\n  StructField(\"price_value\", StringType, true),\n  StructField(\"access_date\", StringType, true),\n  StructField(\"one_way\", BooleanType, true),\n  StructField(\"has_train\", BooleanType, true),\n  StructField(\"days_advance\", IntegerType, true)\n))"
    },
    {
      "cell_type": "code",
      "execution_count": 1,
      "metadata": {
        "autoscroll": "auto"
      },
      "outputs": [],
      "source": "// load data\nval directoryPath \u003d \"/user/zc2398_nyu_edu/flight-data/\"\nval rawDF \u003d spark.read.option(\"header\", \"true\").option(\"mode\", \"PERMISSIVE\").schema(schema).csv(directoryPath)\n"
    },
    {
      "cell_type": "code",
      "execution_count": 2,
      "metadata": {
        "autoscroll": "auto"
      },
      "outputs": [],
      "source": "// check for properload\nrawDF.show(50)"
    },
    {
      "cell_type": "code",
      "execution_count": 3,
      "metadata": {
        "autoscroll": "auto"
      },
      "outputs": [],
      "source": "rawDF.count"
    },
    {
      "cell_type": "code",
      "execution_count": 4,
      "metadata": {
        "autoscroll": "auto"
      },
      "outputs": [],
      "source": "// select only useful df\nval usefulDF \u003d rawDF.select(\"departure_datetime\", \"arrival_datetime\",\"airlines\",\"origin\",\"destination\",\"layover_n\", \"layover_location\", \"price_eur\", \"access_date\").filter(col(\"departure_datetime\").isNotNull)"
    },
    {
      "cell_type": "code",
      "execution_count": 5,
      "metadata": {
        "autoscroll": "auto"
      },
      "outputs": [],
      "source": "usefulDF.count"
    },
    {
      "cell_type": "code",
      "execution_count": 6,
      "metadata": {
        "autoscroll": "auto"
      },
      "outputs": [],
      "source": "// basic cleaning: remove codeshare, remove null\nimport org.apache.spark.sql.functions.udf\n\nval primary \u003d udf((airlines: String) \u003d\u003e {\n    val arr \u003d airlines.replaceAll(\"^\\\\[|\\\\]$|\u0027\", \"\").split(\", \")\n\n    arr(0) match {\n        case \"Jet\"\u003d\u003e \"JetBlue\"\n        case \"Separate tickets booked together\"\u003d\u003e \"\"\n        case _ \u003d\u003e arr(0)\n    }\n})\n\nval cleanLocation \u003d udf((loc: String) \u003d\u003e {\n    if(loc \u003d\u003d null || loc\u003d\u003d\"min\" || loc\u003d\u003d\"Change of airports\"){\n       Array.empty[String]\n    }else{\n        Array(loc)\n    }\n})\n\n\n\nval cleanDF \u003d usefulDF.withColumn(\"airlines\", primary(col(\"airlines\"))).withColumnRenamed(\"airlines\", \"airline\").filter(length(col(\"airline\"))\u003e0).withColumn(\"layover_location\",cleanLocation(col(\"layover_location\"))).withColumnRenamed(\"layover_location\",\"layovers\").withColumnRenamed(\"layover_n\", \"layover_number\")\ncleanDF.show(50)"
    },
    {
      "cell_type": "code",
      "execution_count": 7,
      "metadata": {
        "autoscroll": "auto"
      },
      "outputs": [],
      "source": "// load and clesn airport data\nval airportPath \u003d \"/user/zc2398_nyu_edu/airport-codes_csv.csv\"\nval airportDF \u003d spark.read.option(\"header\", true).csv(airportPath).filter((col(\"type\")\u003d\u003d\u003d\"large_airport\" || col(\"type\")\u003d\u003d\u003d\"medium_airport\") \u0026\u0026 col(\"iata_code\").isNotNull).select(\"iso_country\",\"municipality\", \"iata_code\")\n"
    },
    {
      "cell_type": "code",
      "execution_count": 8,
      "metadata": {
        "autoscroll": "auto"
      },
      "outputs": [],
      "source": "val countryMap: Map[String, String] \u003d Map(\n  \"US\" -\u003e \"United States\",\n  \"GB\" -\u003e \"United Kingdom\",\n  \"CA\" -\u003e \"Canada\",\n  \"DE\" -\u003e \"Germany\",\n  \"FR\" -\u003e \"France\",\n  \"JP\" -\u003e \"Japan\",\n  \"CN\" -\u003e \"China\",\n  \"IN\" -\u003e \"India\",\n  \"BR\" -\u003e \"Brazil\",\n  \"RU\" -\u003e \"Russia\",\n  \"AU\" -\u003e \"Australia\",\n  \"ZA\" -\u003e \"South Africa\",\n  \"NZ\" -\u003e \"New Zealand\",\n  \"ES\" -\u003e \"Spain\",\n  \"IT\" -\u003e \"Italy\",\n  \"MX\" -\u003e \"Mexico\",\n  \"KR\" -\u003e \"South Korea\",\n  \"SE\" -\u003e \"Sweden\",\n  \"NO\" -\u003e \"Norway\",\n  \"FI\" -\u003e \"Finland\",\n  \"DK\" -\u003e \"Denmark\",\n  \"PL\" -\u003e \"Poland\",\n  \"NG\" -\u003e \"Nigeria\",\n  \"EG\" -\u003e \"Egypt\",\n  \"SA\" -\u003e \"Saudi Arabia\",\n  \"AE\" -\u003e \"United Arab Emirates\",\n  \"SG\" -\u003e \"Singapore\",\n  \"TH\" -\u003e \"Thailand\",\n  \"MY\" -\u003e \"Malaysia\",\n  \"PH\" -\u003e \"Philippines\",\n  \"AT\" -\u003e \"Austria\",\n  \"BE\" -\u003e \"Belgium\",\n  \"CH\" -\u003e \"Switzerland\",\n  \"CZ\" -\u003e \"Czech Republic\",\n  \"GR\" -\u003e \"Greece\",\n  \"HU\" -\u003e \"Hungary\",\n  \"IE\" -\u003e \"Ireland\",\n  \"NL\" -\u003e \"Netherlands\",\n  \"PT\" -\u003e \"Portugal\",\n  \"RO\" -\u003e \"Romania\",\n  \"SK\" -\u003e \"Slovakia\",\n  \"SI\" -\u003e \"Slovenia\",\n  \"UA\" -\u003e \"Ukraine\",\n  \"HR\" -\u003e \"Croatia\",\n  \"LV\" -\u003e \"Latvia\",\n  \"LT\" -\u003e \"Lithuania\",\n  \"EE\" -\u003e \"Estonia\",\n  \"BG\" -\u003e \"Bulgaria\",\n  \"IS\" -\u003e \"Iceland\",\n)"
    },
    {
      "cell_type": "code",
      "execution_count": 9,
      "metadata": {
        "autoscroll": "auto"
      },
      "outputs": [],
      "source": "// transform airport code to city and country\nval broadcastCountryMap \u003d sc.broadcast(countryMap)\nval toFullName \u003d udf((code: String) \u003d\u003e {\n    broadcastCountryMap.value.getOrElse(code, \"Unknown\")\n})\n\n\nval originDF \u003d cleanDF.join(airportDF, cleanDF(\"origin\")\u003d\u003d\u003dairportDF(\"iata_code\")).withColumn(\"iso_country\", toFullName(col(\"iso_country\"))).withColumnRenamed(\"iso_country\",\"origin_country\").withColumnRenamed(\"municipality\", \"origin_city\").drop(\"iata_code\").drop(\"origin\").cache()\nval transformedDF \u003d originDF.join(airportDF, originDF(\"destination\")\u003d\u003d\u003dairportDF(\"iata_code\")).withColumn(\"iso_country\", toFullName(col(\"iso_country\"))).withColumnRenamed(\"iso_country\",\"destination_country\").withColumnRenamed(\"municipality\", \"destination_city\").drop(\"iata_code\").drop(\"destination\")"
    },
    {
      "cell_type": "code",
      "execution_count": 10,
      "metadata": {
        "autoscroll": "auto"
      },
      "outputs": [],
      "source": "transformedDF.show(5)"
    },
    {
      "cell_type": "code",
      "execution_count": 11,
      "metadata": {
        "autoscroll": "auto"
      },
      "outputs": [],
      "source": "// get currency table\n\nval currencyDataPath \u003d \"/user/zc2398_nyu_edu/USD_EUR.csv\"\nval currSchema \u003d StructType(Array(\n    StructField(\"date\", DateType, true),\n    StructField(\"eur\", DoubleType, true)\n    ))\nval currencyDF \u003d spark.read.option(\"headers\", \"true\").schema(currSchema).csv(currencyDataPath).filter(col(\"date\").isNotNull).cache()\ncurrencyDF.show(10)\n\n"
    },
    {
      "cell_type": "code",
      "execution_count": 12,
      "metadata": {
        "autoscroll": "auto"
      },
      "outputs": [],
      "source": "// convert currency\nval transformedAccessDF \u003d transformedDF.withColumn(\"access_date_as_date\", to_date(col(\"access_date\")))\nval getUSD \u003d udf((eur:Double, rate:Double) \u003d\u003e{\n    eur / rate\n})\n\nval finalDF \u003d transformedAccessDF.join(currencyDF, transformedAccessDF(\"access_date_as_date\") \u003d\u003d\u003d currencyDF(\"date\"), \"left\").withColumn(\"price\", round(getUSD(col(\"price_eur\"), col(\"eur\")),2)).drop(\"eur\", \"access_date_as_date\", \"date\", \"price_eur\").cache()\n\n"
    },
    {
      "cell_type": "code",
      "execution_count": 13,
      "metadata": {
        "autoscroll": "auto"
      },
      "outputs": [],
      "source": "finalDF.write\n  .mode(\"overwrite\") // Overwrite any existing files\n  .parquet(\"/user/zc2398_nyu_edu/flight-data-cleaned\")"
    },
    {
      "cell_type": "code",
      "execution_count": 14,
      "metadata": {
        "autoscroll": "auto"
      },
      "outputs": [],
      "source": "finalDF.withColumn(\"layovers\", element_at(col(\"layovers\"), 1)).write\n  .option(\"header\", \"true\") // Include column headers\n  .option(\"sep\", \",\")\n  .mode(\"overwrite\") // Overwrite any existing files\n  .csv(\"/user/zc2398_nyu_edu/flight-data-cleaned-csv\")"
    }
  ]
}