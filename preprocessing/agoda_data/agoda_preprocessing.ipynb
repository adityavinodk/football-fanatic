﻿{
  "metadata": {
    "name": "data cleaning",
    "kernelspec": {
      "language": "scala",
      "name": "spark2-scala"
    },
    "language_info": {
      "codemirror_mode": "text/x-scala",
      "file_extension": ".scala",
      "mimetype": "text/x-scala",
      "name": "scala",
      "pygments_lexer": "scala"
    }
  },
  "nbformat": 4,
  "nbformat_minor": 2,
  "cells": [
    {
      "cell_type": "code",
      "execution_count": 0,
      "metadata": {
        "autoscroll": "auto"
      },
      "outputs": [],
      "source": "val filePath \u003d \"/user/yl12081_nyu_edu/hotel_data.csv\""
    },
    {
      "cell_type": "code",
      "execution_count": 1,
      "metadata": {
        "autoscroll": "auto"
      },
      "outputs": [],
      "source": "val rawDF \u003d spark.read\n  .option(\"header\", \"true\")\n  .option(\"multiLine\", \"true\")\n  .option(\"inferSchema\", \"true\")\n  .option(\"escape\", \"\\\"\")\n  .csv(filePath)\n"
    },
    {
      "cell_type": "code",
      "execution_count": 2,
      "metadata": {
        "autoscroll": "auto"
      },
      "outputs": [],
      "source": "z.show(rawDF)"
    },
    {
      "cell_type": "code",
      "execution_count": 3,
      "metadata": {
        "autoscroll": "auto"
      },
      "outputs": [],
      "source": "val baseDF \u003d rawDF.select(\n  \"name\",\n  \"city\",\n  \"country\",\n  \"address\",\n  \"avg_review\",\n  \"property_type\",\n  \"size\",\n  \"checkin\",\n  \"checkout\",\n  \"price\",\n  \"info_date\",\n)\n"
    },
    {
      "cell_type": "code",
      "execution_count": 4,
      "metadata": {
        "autoscroll": "auto"
      },
      "outputs": [],
      "source": "baseDF.printSchema\nbaseDF.cache().count"
    },
    {
      "cell_type": "code",
      "execution_count": 5,
      "metadata": {
        "autoscroll": "auto"
      },
      "outputs": [],
      "source": "val dfWithDateTypes \u003d baseDF.withColumn(\"check_in_date\", to_date($\"checkin\", \"yyyy-MM-dd\"))\n                            .withColumn(\"check_out_date\", to_date($\"checkout\", \"yyyy-MM-dd\"))\n\n// Create a new column \u0027stayDuration\u0027 that shows the number of days between checkin and checkout\nval dfWithStayDuration \u003d dfWithDateTypes.withColumn(\"stay_duration\", datediff($\"check_out_date\", $\"check_in_date\"))\n\nz.show(dfWithStayDuration)"
    },
    {
      "cell_type": "code",
      "execution_count": 6,
      "metadata": {
        "autoscroll": "auto"
      },
      "outputs": [],
      "source": "dfWithStayDuration.printSchema"
    },
    {
      "cell_type": "code",
      "execution_count": 7,
      "metadata": {
        "autoscroll": "auto"
      },
      "outputs": [],
      "source": "// get the statistic from numeric columns\nz.show(dfWithStayDuration.select(\"avg_review\",\"size\",\"price\",\"stay_duration\").summary())"
    },
    {
      "cell_type": "code",
      "execution_count": 8,
      "metadata": {
        "autoscroll": "auto"
      },
      "outputs": [],
      "source": "import org.apache.spark.ml.feature.Imputer\n\nval imputer \u003d new Imputer()\n  .setStrategy(\"median\") // Set the strategy to use median for imputation\n  .setInputCols(Array(\"size\", \"price\", \"avg_review\", \"stay_duration\")) \n  .setOutputCols(Array(\"size\", \"price\", \"avg_review\", \"stay_duration\")) \n  \nval imputedDF \u003d imputer.fit(dfWithStayDuration).transform(dfWithStayDuration)"
    },
    {
      "cell_type": "code",
      "execution_count": 9,
      "metadata": {
        "autoscroll": "auto"
      },
      "outputs": [],
      "source": "z.show(imputedDF.select(\"size\", \"price\", \"avg_review\", \"stay_duration\"))"
    },
    {
      "cell_type": "code",
      "execution_count": 10,
      "metadata": {
        "autoscroll": "auto"
      },
      "outputs": [],
      "source": "z.show(imputedDF.select(\"size\", \"price\", \"avg_review\", \"stay_duration\").summary())\nimputedDF.count()"
    },
    {
      "cell_type": "code",
      "execution_count": 11,
      "metadata": {
        "autoscroll": "auto"
      },
      "outputs": [],
      "source": "val posPricesDF \u003d imputedDF.filter($\"price\" \u003e\u003d 50 \u0026\u0026 $\"price\" \u003c\u003d 1500)\nposPricesDF.count()"
    },
    {
      "cell_type": "code",
      "execution_count": 12,
      "metadata": {
        "autoscroll": "auto"
      },
      "outputs": [],
      "source": "val cleanDF \u003d posPricesDF.filter($\"size\" \u003e\u003d 10 \u0026\u0026 $\"size\" \u003c\u003d 1000)\ncleanDF.count()"
    },
    {
      "cell_type": "code",
      "execution_count": 13,
      "metadata": {
        "autoscroll": "auto"
      },
      "outputs": [],
      "source": "z.show(cleanDF)"
    },
    {
      "cell_type": "code",
      "execution_count": 14,
      "metadata": {
        "autoscroll": "auto"
      },
      "outputs": [],
      "source": "val hotelCleanDF \u003d cleanDF.withColumn(\"hotel_id\", monotonically_increasing_id())\n                                                .withColumnRenamed(\"price\",\"hotel_price\")\n                                                .withColumnRenamed(\"name\",\"hotel_name\")\n                                                .withColumnRenamed(\"address\",\"hotel_address\")\n                                                .withColumnRenamed(\"stay_duration\",\"hotel_stay_duration\")\n                                                .withColumnRenamed(\"size\",\"square_feet\")\n                                                .withColumnRenamed(\"info_date\",\"hotel_info_date\")\n                                                .drop(\"checkin\")\n                                                .drop(\"checkout\")\n                                                .drop(\"property_type\")"
    },
    {
      "cell_type": "code",
      "execution_count": 15,
      "metadata": {
        "autoscroll": "auto"
      },
      "outputs": [],
      "source": "z.show(hotelCleanDF)"
    },
    {
      "cell_type": "code",
      "execution_count": 16,
      "metadata": {
        "autoscroll": "auto"
      },
      "outputs": [],
      "source": "hotelCleanDF.printSchema"
    },
    {
      "cell_type": "code",
      "execution_count": 17,
      "metadata": {
        "autoscroll": "auto"
      },
      "outputs": [],
      "source": "hotelCleanDF.count"
    },
    {
      "cell_type": "code",
      "execution_count": 18,
      "metadata": {
        "autoscroll": "auto"
      },
      "outputs": [],
      "source": "val outputPath \u003d \"/user/yl12081_nyu_edu/hotel_data_clean_refined.parquet\"\n\nhotelCleanDF.write.mode(\"overwrite\").parquet(outputPath)"
    }
  ]
}