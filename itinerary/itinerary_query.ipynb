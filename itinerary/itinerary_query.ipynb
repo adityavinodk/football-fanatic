﻿{
  "metadata": {
    "name": "itinerary_query",
    "kernelspec": {
      "language": "scala",
      "name": "spark2-scala"
    },
    "language_info": {
      "codemirror_mode": "text/x-scala",
      "file_extension": ".scala",
      "mimetype": "text/x-scala",
      "name": "scala",
      "pygments_lexer": "scala"
    }
  },
  "nbformat": 4,
  "nbformat_minor": 2,
  "cells": [
    {
      "cell_type": "code",
      "execution_count": 0,
      "metadata": {
        "autoscroll": "auto"
      },
      "outputs": [],
      "source": "import org.apache.spark.sql.DataFrame\nimport org.apache.spark.sql.functions._"
    },
    {
      "cell_type": "code",
      "execution_count": 1,
      "metadata": {
        "autoscroll": "auto"
      },
      "outputs": [],
      "source": "val ticketDataFilePath \u003d \"/user/avk3358_nyu_edu/project/data/ticket-df.parquet\"\nval matchDataFilePath \u003d \"/user/avk3358_nyu_edu/project/data/cleaned-event-df.parquet\"\nval airbnbDataDir \u003d \"/user/mjd9571_nyu_edu/project/airbnb_listings_cleaned.csv\"\nval flightDataDir \u003d \"/user/zc2398_nyu_edu/flight-data-cleaned/\"\nval hotelDataDir \u003d \"/user/yl12081_nyu_edu/hotel_data_clean_refined.parquet\"\n\nval matchDF \u003d spark.read.parquet(matchDataFilePath)\nval ticketDF \u003d spark.read.parquet(ticketDataFilePath)\nval airbnbDF \u003d spark.read.option(\"header\",\"true\").csv(airbnbDataDir)\nval flightDF \u003d spark.read.parquet(flightDataDir)\nval hotelDF \u003d spark.read.parquet(hotelDataDir)"
    },
    {
      "cell_type": "code",
      "execution_count": 2,
      "metadata": {
        "autoscroll": "auto"
      },
      "outputs": [],
      "source": "def getMatchDataByTeams(teams: Array[String], matchDF: DataFrame, ticketDF: DataFrame): org.apache.spark.sql.DataFrame \u003d {\n    val matchData \u003d matchDF\n      .filter(array_contains($\"teams\", teams(0)) \u0026\u0026 array_contains($\"teams\", teams(1)))\n      \n    val allDF \u003d ticketDF\n      .join(matchData, matchData(\"match_id\") \u003d\u003d\u003d ticketDF(\"match_id\"), \"inner\")\n      .select(ticketDF(\"match_id\"), matchData(\"date\"), matchData(\"time\"), matchData(\"city\"), matchData(\"teams\"), ticketDF(\"ticket_price\"))\n      \n    allDF.groupBy($\"date\", $\"teams\", $\"match_id\", $\"time\", $\"city\").agg(min(\"ticket_price\").alias(\"lowest_ticket_price\"))\n}"
    },
    {
      "cell_type": "code",
      "execution_count": 3,
      "metadata": {
        "autoscroll": "auto"
      },
      "outputs": [],
      "source": "def getAverageFlightPriceDF(\n    inDF: org.apache.spark.sql.DataFrame,\n    flightDF: org.apache.spark.sql.DataFrame\n) \u003d {\n  val averagePrice \u003d inDF\n    .groupBy(\"arrival_datetime\", \"airline\", \"origin\")\n    .agg(round(avg(\"price\"), 2).as(\"avg_price\"))\n  val all \u003d inDF\n    .join(averagePrice, Seq(\"arrival_datetime\", \"airline\", \"origin\"), \"left\")\n    .drop(\"price\")\n    .withColumnRenamed(\"avg_price\", \"price\")\n  // println(all.columns.toList)\n\n  val allColumnsExceptID \u003d all.columns.filter(_ !\u003d \"id\").toList\n  all\n    .groupBy(allColumnsExceptID.map(col): _*)\n    .agg(\n      max(\"id\").as(\"latest_id\")\n    ) // Convert column names to Column type and spread them as arguments\n}"
    },
    {
      "cell_type": "code",
      "execution_count": 4,
      "metadata": {
        "autoscroll": "auto"
      },
      "outputs": [],
      "source": "def getFlightDataFromMatch(matchData: org.apache.spark.sql.DataFrame) \u003d {\n  val inboundFlightRaw \u003d flightDF\n    .join(\n      matchData,\n      lower(flightDF(\"destination_city\")) \u003d\u003d\u003d matchData(\"city\") \u0026\u0026 flightDF(\n        \"arrival_datetime\"\n      ) \u003c matchData(\"time\").minus(expr(\"interval 5 hours\")) \u0026\u0026 flightDF(\n        \"arrival_datetime\"\n      ) \u003e matchData(\"time\").minus(expr(\"interval 3 days\"))\n    )\n    .select(\n      \"arrival_datetime\",\n      \"airline\",\n      \"id\",\n      \"price\",\n      \"city\",\n      \"match_id\",\n      \"teams\",\n      \"origin_city\",\n      \"lowest_ticket_price\"\n    )\n    .withColumnRenamed(\"origin_city\", \"origin\")\n  val inboundFlight \u003d getAverageFlightPriceDF(inboundFlightRaw, flightDF)\n    .withColumnRenamed(\"latest_id\", \"arrival_flight_id\")\n    .withColumnRenamed(\"price\", \"in_price\")\n\n  // inboundFlight\n  val outboundFlightRaw \u003d flightDF\n    .join(\n      matchData,\n      lower(flightDF(\"origin_city\")) \u003d\u003d\u003d matchData(\"city\") \u0026\u0026 flightDF(\n        \"arrival_datetime\"\n      ) \u003e matchData(\"time\").plus(expr(\"interval 5 hours\")) \u0026\u0026 flightDF(\n        \"arrival_datetime\"\n      ) \u003c matchData(\"time\").plus(expr(\"interval 3 days\"))\n    )\n    .select(\n      \"departure_datetime\",\n      \"arrival_datetime\",\n      \"airline\",\n      \"id\",\n      \"price\",\n      \"match_id\",\n      \"destination_city\",\n      \"origin_city\"\n    )\n    .withColumnRenamed(\"destination_city\", \"return_city\")\n    .withColumnRenamed(\"origin_city\", \"origin\")\n\n  val outboundFlight \u003d getAverageFlightPriceDF(outboundFlightRaw, flightDF)\n    .withColumnRenamed(\"latest_id\", \"departure_flight_id\")\n    .drop(\"arrival_datetime\", \"origin\")\n    .withColumnRenamed(\"airline\", \"airline_out\")\n    .withColumnRenamed(\"price\", \"out_price\")\n\n  inboundFlight\n    .join(\n      outboundFlight,\n      inboundFlight(\"match_id\") \u003d\u003d\u003d outboundFlight(\"match_id\") \u0026\u0026 inboundFlight(\n        \"origin\"\n      ) \u003d\u003d\u003d outboundFlight(\"return_city\"),\n      \"cross\"\n    )\n    .withColumn(\"flight_price\", col(\"in_price\") + col(\"out_price\"))\n    .drop(\"in_price\", \"out_price\", \"return_city\")\n    .withColumnRenamed(\"arrival_datetime\", \"arrival_time\")\n    .withColumnRenamed(\"departure_datetime\", \"departure_time\")\n}"
    },
    {
      "cell_type": "code",
      "execution_count": 5,
      "metadata": {
        "autoscroll": "auto"
      },
      "outputs": [],
      "source": "// TODELETE\nval matchCleaned \u003d getMatchDataByTeams(teams, matchDF, ticketDF)\nval matchFlightsDF \u003d getFlightDataFromMatch(matchCleaned)"
    },
    {
      "cell_type": "code",
      "execution_count": 6,
      "metadata": {
        "autoscroll": "auto"
      },
      "outputs": [],
      "source": "matchFlightsDF.printSchema"
    },
    {
      "cell_type": "code",
      "execution_count": 7,
      "metadata": {
        "autoscroll": "auto"
      },
      "outputs": [],
      "source": "hotelDF.printSchema"
    },
    {
      "cell_type": "code",
      "execution_count": 8,
      "metadata": {
        "autoscroll": "auto"
      },
      "outputs": [],
      "source": "hotelOutput.printSchema"
    },
    {
      "cell_type": "code",
      "execution_count": 9,
      "metadata": {
        "autoscroll": "auto"
      },
      "outputs": [],
      "source": "def flightJoinWithHotel(flight: DataFrame, hotel: DataFrame): DataFrame \u003d {\n  val result \u003d flight.alias(\"df1\")\n    .join(\n      hotel.alias(\"df2\"),\n      lower(col(\"df1.city\")) \u003d\u003d\u003d lower(col(\"df2.city\")) \u0026\u0026 // Case-insensitive city comparison\n      col(\"df2.check_in_date\").geq(col(\"df1.arrival_date\")) \u0026\u0026 // checkinDate \u003e\u003d arrival_date\n      col(\"df2.check_in_date\").leq(date_add(col(\"df1.arrival_date\"), 1)) \u0026\u0026 // checkinDate \u003c\u003d arrival_date + 1 day\n      col(\"df2.check_out_date\") \u003d\u003d\u003d col(\"df1.departure_date\"), // checkoutDate \u003d\u003d departure_date\n      \"inner\" // Inner join to only keep matching rows\n    )\n    \n  result.withColumnRenamed(\"departure_date\", \"departure_time\")\n        .withColumnRenamed(\"arrival_date\", \"arrival_time\")\n}"
    },
    {
      "cell_type": "code",
      "execution_count": 10,
      "metadata": {
        "autoscroll": "auto"
      },
      "outputs": [],
      "source": "def flightJoinWithAirbnb(flightDataDF: DataFrame, airbnbDF: DataFrame): DataFrame \u003d {\n    flightDataDF.join(\n        airbnbDF,\n        flightDataDF(\"city\") \u003d\u003d\u003d lower(airbnbDF(\"city\")) \u0026\u0026\n        flightDataDF(\"arrival_date\") \u003d\u003d\u003d airbnbDF(\"checkin_date\") \u0026\u0026\n        (flightDataDF(\"departure_date\") \u003d\u003d\u003d airbnbDF(\"checkout_date\") ||\n        flightDataDF(\"departure_date\") \u003d\u003d\u003d date_add(airbnbDF(\"checkout_date\"), 1))\n    )\n}\n\nval flightAirbnbJoinDF \u003d"
    },
    {
      "cell_type": "code",
      "execution_count": 11,
      "metadata": {
        "autoscroll": "auto"
      },
      "outputs": [],
      "source": "val teams \u003d Array(\"Borussia Dortmund\", \"Paris Saint-Germain\")\n\nval filteredMatchesDF \u003d getMatchesByTeams(teams, matchDF)\n\nz.show(filteredMatchesDF)"
    },
    {
      "cell_type": "code",
      "execution_count": 12,
      "metadata": {
        "autoscroll": "auto"
      },
      "outputs": [],
      "source": "def planItineraryFlightsAndHotels(teams: Array[String], matchDF: DataFrame, ticketDF: DataFrame, flightDF: DataFrame, hotelDF: DataFrame): DataFrame \u003d {\n    val filteredMatchesDF \u003d getMatchDataByTeams(teams, matchDF, ticketDF)\n    val flightsForMatchesDF \u003d getFlightDataFromMatch(filteredMatchesDF)\n    val convertedDF \u003d flightsForMatchesDF.withColumn(\"arrival_date\", to_date($\"arrival_time\"))\n                                        .withColumn(\"departure_date\", to_date($\"departure_time\"))\n    flightJoinWithHotel(convertedDF, hotelDF).drop(\"country\",\"hotel_address\",\"avg_review\",\"square_feet\",\"hotel_info_date\",\"hotel_stay_duration\")\n}"
    },
    {
      "cell_type": "code",
      "execution_count": 13,
      "metadata": {
        "autoscroll": "auto"
      },
      "outputs": [],
      "source": "val hotelOutput \u003d planItineraryFlightsAndHotels(teams, matchDF, ticketDF, flightDF, hotelDF)\nz.show(hotelOutput)"
    },
    {
      "cell_type": "code",
      "execution_count": 14,
      "metadata": {
        "autoscroll": "auto"
      },
      "outputs": [],
      "source": "def planItineraryFlightsAndAirbnb(teams: Array[String], matchDF: DataFrame, ticketDF: DataFrame, flightDF: DataFrame, airbnbDF: DataFrame): DataFrame \u003d {\n    val filteredMatchesDF \u003d getMatchDataByTeams(teams, matchDF, ticketDF)\n    val flightsForMatchesDF \u003d getFlightDataFromMatch(filteredMatchesDF)\n    val convertedDF \u003d flightsForMatchesDF.withColumn(\"arrival_date\", to_date($\"arrival_time\"))\n                                        .withColumn(\"departure_date\", to_date($\"departure_time\"))\n    flightJoinWithAirbnb(convertedDF, airbnbDF).drop(\"listing\")\n}"
    },
    {
      "cell_type": "code",
      "execution_count": 15,
      "metadata": {
        "autoscroll": "auto"
      },
      "outputs": [],
      "source": "val airbnbOutput \u003d planItineraryFlightsAndAirbnb(teams, matchDF, ticketDF, flightDF, airbnbDF)\nz.show(airbnbOutput)"
    },
    {
      "cell_type": "code",
      "execution_count": 16,
      "metadata": {
        "autoscroll": "auto"
      },
      "outputs": [],
      "source": "airbnbOutput.printSchema"
    }
  ]
}